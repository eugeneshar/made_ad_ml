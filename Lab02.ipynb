{
 "cells": [
  {
   "cell_type": "markdown",
   "id": "66d49cac",
   "metadata": {},
   "source": [
    "# Второе домашнее задание \n",
    "— самое большое в курсе, в нём придётся и концептуально подумать о происходящем, и технические трудности тоже порешать. Как и раньше, в качестве решения ожидается ссылка на jupyter-ноутбук на вашем github (или публичный, или с доступом для snikolenko); ссылку обязательно нужно прислать в виде сданного домашнего задания на портале Академии. Как всегда, любые комментарии, новые идеи и рассуждения на тему категорически приветствуются. \n",
    "Третье задание — это полноценный проект по анализу данных, начиная от анализа постановки задачи и заканчивая сравнением результатов разных моделей. Задача реальная и серьёзная, хотя тему я выбрал развлекательную: мы будем строить вероятностную рейтинг-систему для спортивного “Что? Где? Когда?” (ЧГК).\n",
    "\n",
    "Background: в спортивном “Что? Где? Когда?” соревнующиеся команды отвечают на одни и те же вопросы. После минуты обсуждения команды записывают и сдают свои ответы на карточках; побеждает тот, кто ответил на большее число вопросов. Турнир обычно состоит из нескольких десятков вопросов (обычно 36 или 45, иногда 60, больше редко). Часто бывают синхронные турниры, когда на одни и те же вопросы отвечают команды на сотнях игровых площадок по всему миру, т.е. в одном турнире могут играть сотни, а то и тысячи команд. \n",
    "\n",
    "Соответственно, нам нужно:\n",
    "* построить рейтинг-лист, который способен нетривиально предсказывать результаты будущих турниров;\n",
    "* при этом, поскольку ЧГК — это хобби, и контрактов тут никаких нет, игроки постоянно переходят из команды в команду, сильный игрок может на один турнир сесть поиграть за другую команду и т.д.; поэтому единицей рейтинг-листа должна быть не команда, а отдельный игрок;\n",
    "\n",
    "* а что сильно упрощает задачу и переводит её в область домашних заданий на EM-алгоритм — это характер данных: начиная с какого-то момента, в базу результатов начали вносить все повопросные результаты команд, т.е. в данных будут записи вида “какая команда на какой вопрос правильно ответила”.\n"
   ]
  },
  {
   "cell_type": "markdown",
   "id": "993bbd2b",
   "metadata": {},
   "source": [
    "## Загрузка данных"
   ]
  },
  {
   "cell_type": "code",
   "execution_count": 1,
   "id": "2e22ef7d",
   "metadata": {},
   "outputs": [],
   "source": [
    "import os\n",
    "import pandas as pd\n",
    "import pickle"
   ]
  },
  {
   "cell_type": "code",
   "execution_count": 2,
   "id": "4dc71936",
   "metadata": {},
   "outputs": [
    {
     "data": {
      "text/plain": [
       "['results.pkl', 'players.pkl', 'tournaments.pkl']"
      ]
     },
     "execution_count": 2,
     "metadata": {},
     "output_type": "execute_result"
    }
   ],
   "source": [
    "os.listdir('chgk')"
   ]
  },
  {
   "cell_type": "code",
   "execution_count": 3,
   "id": "f5c0fa7c",
   "metadata": {},
   "outputs": [],
   "source": [
    "with open('chgk/results.pkl', 'rb') as f:\n",
    "    results_raw = pickle.load(f)\n",
    "    \n",
    "with open('chgk/tournaments.pkl', 'rb') as f:\n",
    "    tournaments_raw = pickle.load(f)\n",
    "    \n",
    "with open('chgk/players.pkl', 'rb') as f:\n",
    "    players_raw = pickle.load(f)"
   ]
  },
  {
   "cell_type": "markdown",
   "id": "cdb9ae8a",
   "metadata": {},
   "source": [
    "Результаты"
   ]
  },
  {
   "cell_type": "code",
   "execution_count": 4,
   "id": "0fe05dbf",
   "metadata": {},
   "outputs": [],
   "source": [
    "results_dataframes = {k: pd.DataFrame(v) for k, v in results_raw.items()}\n",
    "\n",
    "results = []\n",
    "for k, df in results_dataframes.items():\n",
    "    df['tournament_id'] = k\n",
    "    results.append(df)\n",
    "results = pd.concat(results, axis=0, ignore_index=True)\n",
    "results.dropna(subset=['mask'], inplace=True)"
   ]
  },
  {
   "cell_type": "code",
   "execution_count": 5,
   "id": "61483f9c",
   "metadata": {},
   "outputs": [
    {
     "data": {
      "text/html": [
       "<div>\n",
       "<style scoped>\n",
       "    .dataframe tbody tr th:only-of-type {\n",
       "        vertical-align: middle;\n",
       "    }\n",
       "\n",
       "    .dataframe tbody tr th {\n",
       "        vertical-align: top;\n",
       "    }\n",
       "\n",
       "    .dataframe thead th {\n",
       "        text-align: right;\n",
       "    }\n",
       "</style>\n",
       "<table border=\"1\" class=\"dataframe\">\n",
       "  <thead>\n",
       "    <tr style=\"text-align: right;\">\n",
       "      <th></th>\n",
       "      <th>team</th>\n",
       "      <th>mask</th>\n",
       "      <th>current</th>\n",
       "      <th>questionsTotal</th>\n",
       "      <th>synchRequest</th>\n",
       "      <th>position</th>\n",
       "      <th>controversials</th>\n",
       "      <th>flags</th>\n",
       "      <th>teamMembers</th>\n",
       "      <th>tournament_id</th>\n",
       "    </tr>\n",
       "  </thead>\n",
       "  <tbody>\n",
       "    <tr>\n",
       "      <th>2407</th>\n",
       "      <td>{'id': 1, 'name': 'Неспроста', 'town': {'id': ...</td>\n",
       "      <td>0111011101101110001101110011111111110011111100...</td>\n",
       "      <td>{'name': 'КП - Неспроста', 'town': {'id': 201,...</td>\n",
       "      <td>67.0</td>\n",
       "      <td>None</td>\n",
       "      <td>1.0</td>\n",
       "      <td>[]</td>\n",
       "      <td>[]</td>\n",
       "      <td>[{'flag': None, 'usedRating': 0, 'rating': 0, ...</td>\n",
       "      <td>22</td>\n",
       "    </tr>\n",
       "    <tr>\n",
       "      <th>2408</th>\n",
       "      <td>{'id': 2, 'name': 'Афина', 'town': {'id': 201,...</td>\n",
       "      <td>0111111101011010010101110111111111110011011111...</td>\n",
       "      <td>{'name': 'Афина', 'town': {'id': 201, 'name': ...</td>\n",
       "      <td>65.0</td>\n",
       "      <td>None</td>\n",
       "      <td>2.5</td>\n",
       "      <td>[]</td>\n",
       "      <td>[]</td>\n",
       "      <td>[{'flag': None, 'usedRating': 0, 'rating': 0, ...</td>\n",
       "      <td>22</td>\n",
       "    </tr>\n",
       "    <tr>\n",
       "      <th>2409</th>\n",
       "      <td>{'id': 670, 'name': 'Ксеп', 'town': {'id': 201...</td>\n",
       "      <td>0011111101011010011101110011111111110111111111...</td>\n",
       "      <td>{'name': 'Ксеп', 'town': {'id': 201, 'name': '...</td>\n",
       "      <td>65.0</td>\n",
       "      <td>None</td>\n",
       "      <td>2.5</td>\n",
       "      <td>[]</td>\n",
       "      <td>[]</td>\n",
       "      <td>[{'flag': None, 'usedRating': 0, 'rating': 0, ...</td>\n",
       "      <td>22</td>\n",
       "    </tr>\n",
       "    <tr>\n",
       "      <th>2410</th>\n",
       "      <td>{'id': 173, 'name': 'ЮМА', 'town': {'id': 285,...</td>\n",
       "      <td>0111111001101110001101111011111111110100111111...</td>\n",
       "      <td>{'name': 'ЮМА-Энергокапитал', 'town': {'id': 2...</td>\n",
       "      <td>64.0</td>\n",
       "      <td>None</td>\n",
       "      <td>4.5</td>\n",
       "      <td>[]</td>\n",
       "      <td>[]</td>\n",
       "      <td>[{'flag': None, 'usedRating': 0, 'rating': 0, ...</td>\n",
       "      <td>22</td>\n",
       "    </tr>\n",
       "    <tr>\n",
       "      <th>2411</th>\n",
       "      <td>{'id': 175, 'name': 'Транссфера', 'town': {'id...</td>\n",
       "      <td>0111111001101111001111111011111110110010111110...</td>\n",
       "      <td>{'name': 'Транссфера', 'town': {'id': 285, 'na...</td>\n",
       "      <td>64.0</td>\n",
       "      <td>None</td>\n",
       "      <td>4.5</td>\n",
       "      <td>[]</td>\n",
       "      <td>[]</td>\n",
       "      <td>[]</td>\n",
       "      <td>22</td>\n",
       "    </tr>\n",
       "  </tbody>\n",
       "</table>\n",
       "</div>"
      ],
      "text/plain": [
       "                                                   team  \\\n",
       "2407  {'id': 1, 'name': 'Неспроста', 'town': {'id': ...   \n",
       "2408  {'id': 2, 'name': 'Афина', 'town': {'id': 201,...   \n",
       "2409  {'id': 670, 'name': 'Ксеп', 'town': {'id': 201...   \n",
       "2410  {'id': 173, 'name': 'ЮМА', 'town': {'id': 285,...   \n",
       "2411  {'id': 175, 'name': 'Транссфера', 'town': {'id...   \n",
       "\n",
       "                                                   mask  \\\n",
       "2407  0111011101101110001101110011111111110011111100...   \n",
       "2408  0111111101011010010101110111111111110011011111...   \n",
       "2409  0011111101011010011101110011111111110111111111...   \n",
       "2410  0111111001101110001101111011111111110100111111...   \n",
       "2411  0111111001101111001111111011111110110010111110...   \n",
       "\n",
       "                                                current  questionsTotal  \\\n",
       "2407  {'name': 'КП - Неспроста', 'town': {'id': 201,...            67.0   \n",
       "2408  {'name': 'Афина', 'town': {'id': 201, 'name': ...            65.0   \n",
       "2409  {'name': 'Ксеп', 'town': {'id': 201, 'name': '...            65.0   \n",
       "2410  {'name': 'ЮМА-Энергокапитал', 'town': {'id': 2...            64.0   \n",
       "2411  {'name': 'Транссфера', 'town': {'id': 285, 'na...            64.0   \n",
       "\n",
       "     synchRequest  position controversials flags  \\\n",
       "2407         None       1.0             []    []   \n",
       "2408         None       2.5             []    []   \n",
       "2409         None       2.5             []    []   \n",
       "2410         None       4.5             []    []   \n",
       "2411         None       4.5             []    []   \n",
       "\n",
       "                                            teamMembers  tournament_id  \n",
       "2407  [{'flag': None, 'usedRating': 0, 'rating': 0, ...             22  \n",
       "2408  [{'flag': None, 'usedRating': 0, 'rating': 0, ...             22  \n",
       "2409  [{'flag': None, 'usedRating': 0, 'rating': 0, ...             22  \n",
       "2410  [{'flag': None, 'usedRating': 0, 'rating': 0, ...             22  \n",
       "2411                                                 []             22  "
      ]
     },
     "execution_count": 5,
     "metadata": {},
     "output_type": "execute_result"
    }
   ],
   "source": [
    "results.head()"
   ]
  },
  {
   "cell_type": "code",
   "execution_count": 6,
   "id": "cc845335",
   "metadata": {},
   "outputs": [
    {
     "data": {
      "text/html": [
       "<div>\n",
       "<style scoped>\n",
       "    .dataframe tbody tr th:only-of-type {\n",
       "        vertical-align: middle;\n",
       "    }\n",
       "\n",
       "    .dataframe tbody tr th {\n",
       "        vertical-align: top;\n",
       "    }\n",
       "\n",
       "    .dataframe thead th {\n",
       "        text-align: right;\n",
       "    }\n",
       "</style>\n",
       "<table border=\"1\" class=\"dataframe\">\n",
       "  <thead>\n",
       "    <tr style=\"text-align: right;\">\n",
       "      <th></th>\n",
       "      <th>team</th>\n",
       "      <th>mask</th>\n",
       "      <th>current</th>\n",
       "      <th>questionsTotal</th>\n",
       "      <th>synchRequest</th>\n",
       "      <th>position</th>\n",
       "      <th>controversials</th>\n",
       "      <th>flags</th>\n",
       "      <th>teamMembers</th>\n",
       "      <th>tournament_id</th>\n",
       "    </tr>\n",
       "  </thead>\n",
       "  <tbody>\n",
       "    <tr>\n",
       "      <th>409346</th>\n",
       "      <td>{'id': 69004, 'name': 'Олды тут', 'town': {'id...</td>\n",
       "      <td>010000X00111000100000001110000010010</td>\n",
       "      <td>{'name': 'Олды тут', 'town': {'id': 322, 'name...</td>\n",
       "      <td>10.0</td>\n",
       "      <td>{'id': 60145, 'venue': {'id': 3040, 'name': 'Т...</td>\n",
       "      <td>413.0</td>\n",
       "      <td>[{'id': 96247, 'questionNumber': 17, 'answer':...</td>\n",
       "      <td>[{'id': 4, 'shortName': 'С', 'longName': 'Студ...</td>\n",
       "      <td>[{'flag': 'Л', 'usedRating': 8897, 'rating': 8...</td>\n",
       "      <td>5070</td>\n",
       "    </tr>\n",
       "  </tbody>\n",
       "</table>\n",
       "</div>"
      ],
      "text/plain": [
       "                                                     team  \\\n",
       "409346  {'id': 69004, 'name': 'Олды тут', 'town': {'id...   \n",
       "\n",
       "                                        mask  \\\n",
       "409346  010000X00111000100000001110000010010   \n",
       "\n",
       "                                                  current  questionsTotal  \\\n",
       "409346  {'name': 'Олды тут', 'town': {'id': 322, 'name...            10.0   \n",
       "\n",
       "                                             synchRequest  position  \\\n",
       "409346  {'id': 60145, 'venue': {'id': 3040, 'name': 'Т...     413.0   \n",
       "\n",
       "                                           controversials  \\\n",
       "409346  [{'id': 96247, 'questionNumber': 17, 'answer':...   \n",
       "\n",
       "                                                    flags  \\\n",
       "409346  [{'id': 4, 'shortName': 'С', 'longName': 'Студ...   \n",
       "\n",
       "                                              teamMembers  tournament_id  \n",
       "409346  [{'flag': 'Л', 'usedRating': 8897, 'rating': 8...           5070  "
      ]
     },
     "execution_count": 6,
     "metadata": {},
     "output_type": "execute_result"
    }
   ],
   "source": [
    "results.sample(1)"
   ]
  },
  {
   "cell_type": "code",
   "execution_count": 7,
   "id": "fd4fe3c4",
   "metadata": {},
   "outputs": [
    {
     "data": {
      "text/plain": [
       "({'name': 'Южный Парк', 'town': {'id': 236, 'name': 'Одесса'}},\n",
       " {'id': 4777, 'name': 'Южный Парк', 'town': {'id': 236, 'name': 'Одесса'}},\n",
       " [{'flag': 'К',\n",
       "   'usedRating': 4598,\n",
       "   'rating': 4602,\n",
       "   'player': {'id': 26243,\n",
       "    'name': 'Николай',\n",
       "    'patronymic': 'Алексеевич',\n",
       "    'surname': 'Пручковский'}},\n",
       "  {'flag': 'Б',\n",
       "   'usedRating': 3612,\n",
       "   'rating': 4337,\n",
       "   'player': {'id': 35920,\n",
       "    'name': 'Владимир',\n",
       "    'patronymic': 'Викторович',\n",
       "    'surname': 'Шевчук-Иркмаан'}},\n",
       "  {'flag': 'Б',\n",
       "   'usedRating': 2771,\n",
       "   'rating': 4160,\n",
       "   'player': {'id': 67902,\n",
       "    'name': 'Дмитрий',\n",
       "    'patronymic': 'Леонидович',\n",
       "    'surname': 'Адамовский'}},\n",
       "  {'flag': 'Л',\n",
       "   'usedRating': 1791,\n",
       "   'rating': 3584,\n",
       "   'player': {'id': 96079,\n",
       "    'name': 'Ирина',\n",
       "    'patronymic': 'Вячеславовна',\n",
       "    'surname': 'Горавская'}}],\n",
       " {'id': 10653, 'venue': {'id': 3134, 'name': 'Одесса'}})"
      ]
     },
     "execution_count": 7,
     "metadata": {},
     "output_type": "execute_result"
    }
   ],
   "source": [
    "# посмотрим как выглядят примеры записей в таблице\n",
    "\n",
    "results.loc[166992, 'current'], results.loc[166992, 'team'], results.loc[166992, 'teamMembers'], results.loc[166992, 'synchRequest']"
   ]
  },
  {
   "cell_type": "code",
   "execution_count": 8,
   "id": "31f45525",
   "metadata": {},
   "outputs": [
    {
     "name": "stdout",
     "output_type": "stream",
     "text": [
      "<class 'pandas.core.frame.DataFrame'>\n",
      "Int64Index: 441410 entries, 2407 to 528742\n",
      "Data columns (total 10 columns):\n",
      " #   Column          Non-Null Count   Dtype  \n",
      "---  ------          --------------   -----  \n",
      " 0   team            441410 non-null  object \n",
      " 1   mask            441410 non-null  object \n",
      " 2   current         441410 non-null  object \n",
      " 3   questionsTotal  441410 non-null  float64\n",
      " 4   synchRequest    319488 non-null  object \n",
      " 5   position        441410 non-null  float64\n",
      " 6   controversials  441410 non-null  object \n",
      " 7   flags           441410 non-null  object \n",
      " 8   teamMembers     441410 non-null  object \n",
      " 9   tournament_id   441410 non-null  int64  \n",
      "dtypes: float64(2), int64(1), object(7)\n",
      "memory usage: 53.2+ MB\n"
     ]
    }
   ],
   "source": [
    "results.info()"
   ]
  },
  {
   "cell_type": "markdown",
   "id": "d47b5287",
   "metadata": {},
   "source": [
    "Турниры"
   ]
  },
  {
   "cell_type": "code",
   "execution_count": 9,
   "id": "5965dfa4",
   "metadata": {},
   "outputs": [
    {
     "data": {
      "text/html": [
       "<div>\n",
       "<style scoped>\n",
       "    .dataframe tbody tr th:only-of-type {\n",
       "        vertical-align: middle;\n",
       "    }\n",
       "\n",
       "    .dataframe tbody tr th {\n",
       "        vertical-align: top;\n",
       "    }\n",
       "\n",
       "    .dataframe thead th {\n",
       "        text-align: right;\n",
       "    }\n",
       "</style>\n",
       "<table border=\"1\" class=\"dataframe\">\n",
       "  <thead>\n",
       "    <tr style=\"text-align: right;\">\n",
       "      <th></th>\n",
       "      <th>id</th>\n",
       "      <th>name</th>\n",
       "      <th>dateStart</th>\n",
       "      <th>dateEnd</th>\n",
       "      <th>type</th>\n",
       "      <th>season</th>\n",
       "      <th>orgcommittee</th>\n",
       "      <th>synchData</th>\n",
       "      <th>questionQty</th>\n",
       "    </tr>\n",
       "  </thead>\n",
       "  <tbody>\n",
       "    <tr>\n",
       "      <th>1</th>\n",
       "      <td>1</td>\n",
       "      <td>Чемпионат Южного Кавказа</td>\n",
       "      <td>2003-07-25</td>\n",
       "      <td>2003-07-27</td>\n",
       "      <td>{'id': 2, 'name': 'Обычный'}</td>\n",
       "      <td>/seasons/1</td>\n",
       "      <td>[]</td>\n",
       "      <td>None</td>\n",
       "      <td>None</td>\n",
       "    </tr>\n",
       "    <tr>\n",
       "      <th>2</th>\n",
       "      <td>2</td>\n",
       "      <td>Летние зори</td>\n",
       "      <td>2003-08-09</td>\n",
       "      <td>2003-08-09</td>\n",
       "      <td>{'id': 2, 'name': 'Обычный'}</td>\n",
       "      <td>/seasons/1</td>\n",
       "      <td>[]</td>\n",
       "      <td>None</td>\n",
       "      <td>None</td>\n",
       "    </tr>\n",
       "    <tr>\n",
       "      <th>3</th>\n",
       "      <td>3</td>\n",
       "      <td>Турнир в Ижевске</td>\n",
       "      <td>2003-11-22</td>\n",
       "      <td>2003-11-24</td>\n",
       "      <td>{'id': 2, 'name': 'Обычный'}</td>\n",
       "      <td>/seasons/2</td>\n",
       "      <td>[]</td>\n",
       "      <td>None</td>\n",
       "      <td>None</td>\n",
       "    </tr>\n",
       "    <tr>\n",
       "      <th>4</th>\n",
       "      <td>4</td>\n",
       "      <td>Чемпионат Украины. Переходной этап</td>\n",
       "      <td>2003-10-11</td>\n",
       "      <td>2003-10-12</td>\n",
       "      <td>{'id': 2, 'name': 'Обычный'}</td>\n",
       "      <td>/seasons/2</td>\n",
       "      <td>[]</td>\n",
       "      <td>None</td>\n",
       "      <td>None</td>\n",
       "    </tr>\n",
       "    <tr>\n",
       "      <th>5</th>\n",
       "      <td>5</td>\n",
       "      <td>Бостонское чаепитие</td>\n",
       "      <td>2003-10-10</td>\n",
       "      <td>2003-10-13</td>\n",
       "      <td>{'id': 2, 'name': 'Обычный'}</td>\n",
       "      <td>/seasons/2</td>\n",
       "      <td>[]</td>\n",
       "      <td>None</td>\n",
       "      <td>None</td>\n",
       "    </tr>\n",
       "  </tbody>\n",
       "</table>\n",
       "</div>"
      ],
      "text/plain": [
       "   id                                name  dateStart    dateEnd  \\\n",
       "1   1            Чемпионат Южного Кавказа 2003-07-25 2003-07-27   \n",
       "2   2                         Летние зори 2003-08-09 2003-08-09   \n",
       "3   3                    Турнир в Ижевске 2003-11-22 2003-11-24   \n",
       "4   4  Чемпионат Украины. Переходной этап 2003-10-11 2003-10-12   \n",
       "5   5                 Бостонское чаепитие 2003-10-10 2003-10-13   \n",
       "\n",
       "                           type      season orgcommittee synchData questionQty  \n",
       "1  {'id': 2, 'name': 'Обычный'}  /seasons/1           []      None        None  \n",
       "2  {'id': 2, 'name': 'Обычный'}  /seasons/1           []      None        None  \n",
       "3  {'id': 2, 'name': 'Обычный'}  /seasons/2           []      None        None  \n",
       "4  {'id': 2, 'name': 'Обычный'}  /seasons/2           []      None        None  \n",
       "5  {'id': 2, 'name': 'Обычный'}  /seasons/2           []      None        None  "
      ]
     },
     "execution_count": 9,
     "metadata": {},
     "output_type": "execute_result"
    }
   ],
   "source": [
    "tournaments = pd.DataFrame.from_dict(tournaments_raw, orient='index')\n",
    "tournaments['dateStart'] = tournaments['dateStart'].str[:-6]  # remove timezones coz it's not so important here\n",
    "tournaments['dateEnd'] = tournaments['dateEnd'].str[:-6]\n",
    "\n",
    "tournaments['dateStart'] = pd.to_datetime(tournaments['dateStart'], format='%Y-%m-%d %H:%M:%S')\n",
    "tournaments['dateEnd'] = pd.to_datetime(tournaments['dateEnd'], format='%Y-%m-%d %H:%M:%S')\n",
    "\n",
    "tournaments.head()"
   ]
  },
  {
   "cell_type": "code",
   "execution_count": 10,
   "id": "bdb48add",
   "metadata": {},
   "outputs": [
    {
     "name": "stdout",
     "output_type": "stream",
     "text": [
      "<class 'pandas.core.frame.DataFrame'>\n",
      "Int64Index: 5528 entries, 1 to 6485\n",
      "Data columns (total 9 columns):\n",
      " #   Column        Non-Null Count  Dtype         \n",
      "---  ------        --------------  -----         \n",
      " 0   id            5528 non-null   int64         \n",
      " 1   name          5528 non-null   object        \n",
      " 2   dateStart     5528 non-null   datetime64[ns]\n",
      " 3   dateEnd       5528 non-null   datetime64[ns]\n",
      " 4   type          5528 non-null   object        \n",
      " 5   season        5434 non-null   object        \n",
      " 6   orgcommittee  5528 non-null   object        \n",
      " 7   synchData     1855 non-null   object        \n",
      " 8   questionQty   4343 non-null   object        \n",
      "dtypes: datetime64[ns](2), int64(1), object(6)\n",
      "memory usage: 431.9+ KB\n"
     ]
    }
   ],
   "source": [
    "tournaments.info()"
   ]
  },
  {
   "cell_type": "code",
   "execution_count": 11,
   "id": "2f9502eb",
   "metadata": {},
   "outputs": [],
   "source": [
    "train_test_tournaments = tournaments[tournaments['dateStart'].dt.year.isin([2019, 2020])]"
   ]
  },
  {
   "cell_type": "markdown",
   "id": "97d61835",
   "metadata": {},
   "source": [
    "Игроки"
   ]
  },
  {
   "cell_type": "code",
   "execution_count": 12,
   "id": "f342d482",
   "metadata": {},
   "outputs": [
    {
     "data": {
      "text/html": [
       "<div>\n",
       "<style scoped>\n",
       "    .dataframe tbody tr th:only-of-type {\n",
       "        vertical-align: middle;\n",
       "    }\n",
       "\n",
       "    .dataframe tbody tr th {\n",
       "        vertical-align: top;\n",
       "    }\n",
       "\n",
       "    .dataframe thead th {\n",
       "        text-align: right;\n",
       "    }\n",
       "</style>\n",
       "<table border=\"1\" class=\"dataframe\">\n",
       "  <thead>\n",
       "    <tr style=\"text-align: right;\">\n",
       "      <th></th>\n",
       "      <th>id</th>\n",
       "      <th>name</th>\n",
       "      <th>patronymic</th>\n",
       "      <th>surname</th>\n",
       "    </tr>\n",
       "  </thead>\n",
       "  <tbody>\n",
       "    <tr>\n",
       "      <th>1</th>\n",
       "      <td>1</td>\n",
       "      <td>Алексей</td>\n",
       "      <td>None</td>\n",
       "      <td>Абабилов</td>\n",
       "    </tr>\n",
       "    <tr>\n",
       "      <th>10</th>\n",
       "      <td>10</td>\n",
       "      <td>Игорь</td>\n",
       "      <td></td>\n",
       "      <td>Абалов</td>\n",
       "    </tr>\n",
       "    <tr>\n",
       "      <th>11</th>\n",
       "      <td>11</td>\n",
       "      <td>Наталья</td>\n",
       "      <td>Юрьевна</td>\n",
       "      <td>Абалымова</td>\n",
       "    </tr>\n",
       "    <tr>\n",
       "      <th>12</th>\n",
       "      <td>12</td>\n",
       "      <td>Артур</td>\n",
       "      <td>Евгеньевич</td>\n",
       "      <td>Абальян</td>\n",
       "    </tr>\n",
       "    <tr>\n",
       "      <th>13</th>\n",
       "      <td>13</td>\n",
       "      <td>Эрик</td>\n",
       "      <td>Евгеньевич</td>\n",
       "      <td>Абальян</td>\n",
       "    </tr>\n",
       "  </tbody>\n",
       "</table>\n",
       "</div>"
      ],
      "text/plain": [
       "    id     name  patronymic    surname\n",
       "1    1  Алексей        None   Абабилов\n",
       "10  10    Игорь                 Абалов\n",
       "11  11  Наталья     Юрьевна  Абалымова\n",
       "12  12    Артур  Евгеньевич    Абальян\n",
       "13  13     Эрик  Евгеньевич    Абальян"
      ]
     },
     "execution_count": 12,
     "metadata": {},
     "output_type": "execute_result"
    }
   ],
   "source": [
    "players = pd.DataFrame.from_dict(players_raw, orient='index')\n",
    "players.head()"
   ]
  },
  {
   "cell_type": "code",
   "execution_count": 13,
   "id": "bf7b0cf6",
   "metadata": {},
   "outputs": [
    {
     "name": "stdout",
     "output_type": "stream",
     "text": [
      "<class 'pandas.core.frame.DataFrame'>\n",
      "Int64Index: 204063 entries, 1 to 224704\n",
      "Data columns (total 4 columns):\n",
      " #   Column      Non-Null Count   Dtype \n",
      "---  ------      --------------   ----- \n",
      " 0   id          204063 non-null  int64 \n",
      " 1   name        204063 non-null  object\n",
      " 2   patronymic  204032 non-null  object\n",
      " 3   surname     204063 non-null  object\n",
      "dtypes: int64(1), object(3)\n",
      "memory usage: 7.8+ MB\n"
     ]
    }
   ],
   "source": [
    "players.info()"
   ]
  },
  {
   "cell_type": "markdown",
   "id": "cd15e4e3",
   "metadata": {},
   "source": [
    "## Преобразуем результаты в повопросные результаты для каждого игрока"
   ]
  },
  {
   "cell_type": "code",
   "execution_count": 14,
   "id": "ebdf5780",
   "metadata": {},
   "outputs": [
    {
     "name": "stdout",
     "output_type": "stream",
     "text": [
      "(441410, 10)\n",
      "(108894, 10)\n"
     ]
    }
   ],
   "source": [
    "print(results.shape)\n",
    "results = results[results['tournament_id'].isin(train_test_tournaments['id'])]\n",
    "print(results.shape)\n"
   ]
  },
  {
   "cell_type": "code",
   "execution_count": 15,
   "id": "5740b9a7",
   "metadata": {},
   "outputs": [],
   "source": [
    "# filter results of tournaments in 2019, 2020 only\n",
    "results = results[results['tournament_id'].isin(train_test_tournaments['id'])]\n",
    "\n",
    "# construct player_results DataFrame for each player\n",
    "results['number_of_players'] = results['teamMembers'].apply(lambda team: len(team))\n",
    "results['team'] = results['team'].apply(lambda x: x['id'])\n",
    "results = results[results['number_of_players'] > 0]\n",
    "count = results['number_of_players']  # the trick below used for transform we use at work, hope it will be clear\n",
    "count = count.repeat(count.max())\n",
    "count.index = count.index.rename('old_index')\n",
    "count = count.reset_index()\n",
    "count['count'] = count.groupby('old_index').cumcount()\n",
    "count = count[count['count'] < count['number_of_players']].drop(['number_of_players'], axis=1)\n",
    "count.set_index('old_index', inplace=True)\n",
    "\n",
    "player_results = results.join(count)\n",
    "player_results['count'] = player_results['count'].astype('int')\n",
    "player_results['player'] = player_results.apply(lambda row: row['teamMembers'][row['count']], axis=1)\n",
    "player_results = pd.concat([\n",
    "    player_results.drop(['player'], axis=1).reset_index(drop=True), \n",
    "    pd.DataFrame(player_results['player'].tolist())\n",
    "], axis=1)\n",
    "player_results['player'] = player_results['player'].apply(lambda x: x['id'])\n",
    "player_results.drop(['count', 'current', 'synchRequest', 'controversials', 'flag', 'flags', 'teamMembers'], axis=1, inplace=True)"
   ]
  },
  {
   "cell_type": "code",
   "execution_count": 16,
   "id": "6ed0d529",
   "metadata": {},
   "outputs": [
    {
     "data": {
      "text/html": [
       "<div>\n",
       "<style scoped>\n",
       "    .dataframe tbody tr th:only-of-type {\n",
       "        vertical-align: middle;\n",
       "    }\n",
       "\n",
       "    .dataframe tbody tr th {\n",
       "        vertical-align: top;\n",
       "    }\n",
       "\n",
       "    .dataframe thead th {\n",
       "        text-align: right;\n",
       "    }\n",
       "</style>\n",
       "<table border=\"1\" class=\"dataframe\">\n",
       "  <thead>\n",
       "    <tr style=\"text-align: right;\">\n",
       "      <th></th>\n",
       "      <th>team</th>\n",
       "      <th>mask</th>\n",
       "      <th>questionsTotal</th>\n",
       "      <th>position</th>\n",
       "      <th>tournament_id</th>\n",
       "      <th>number_of_players</th>\n",
       "      <th>usedRating</th>\n",
       "      <th>rating</th>\n",
       "      <th>player</th>\n",
       "    </tr>\n",
       "  </thead>\n",
       "  <tbody>\n",
       "    <tr>\n",
       "      <th>0</th>\n",
       "      <td>45556</td>\n",
       "      <td>111111111011111110111111111100010010</td>\n",
       "      <td>28.0</td>\n",
       "      <td>1.0</td>\n",
       "      <td>4772</td>\n",
       "      <td>6</td>\n",
       "      <td>13507</td>\n",
       "      <td>13507</td>\n",
       "      <td>6212</td>\n",
       "    </tr>\n",
       "    <tr>\n",
       "      <th>1</th>\n",
       "      <td>45556</td>\n",
       "      <td>111111111011111110111111111100010010</td>\n",
       "      <td>28.0</td>\n",
       "      <td>1.0</td>\n",
       "      <td>4772</td>\n",
       "      <td>6</td>\n",
       "      <td>10988</td>\n",
       "      <td>13185</td>\n",
       "      <td>18332</td>\n",
       "    </tr>\n",
       "    <tr>\n",
       "      <th>2</th>\n",
       "      <td>45556</td>\n",
       "      <td>111111111011111110111111111100010010</td>\n",
       "      <td>28.0</td>\n",
       "      <td>1.0</td>\n",
       "      <td>4772</td>\n",
       "      <td>6</td>\n",
       "      <td>8534</td>\n",
       "      <td>12801</td>\n",
       "      <td>18036</td>\n",
       "    </tr>\n",
       "    <tr>\n",
       "      <th>3</th>\n",
       "      <td>45556</td>\n",
       "      <td>111111111011111110111111111100010010</td>\n",
       "      <td>28.0</td>\n",
       "      <td>1.0</td>\n",
       "      <td>4772</td>\n",
       "      <td>6</td>\n",
       "      <td>6401</td>\n",
       "      <td>12801</td>\n",
       "      <td>22799</td>\n",
       "    </tr>\n",
       "    <tr>\n",
       "      <th>4</th>\n",
       "      <td>45556</td>\n",
       "      <td>111111111011111110111111111100010010</td>\n",
       "      <td>28.0</td>\n",
       "      <td>1.0</td>\n",
       "      <td>4772</td>\n",
       "      <td>6</td>\n",
       "      <td>4252</td>\n",
       "      <td>12757</td>\n",
       "      <td>15456</td>\n",
       "    </tr>\n",
       "  </tbody>\n",
       "</table>\n",
       "</div>"
      ],
      "text/plain": [
       "    team                                  mask  questionsTotal  position  \\\n",
       "0  45556  111111111011111110111111111100010010            28.0       1.0   \n",
       "1  45556  111111111011111110111111111100010010            28.0       1.0   \n",
       "2  45556  111111111011111110111111111100010010            28.0       1.0   \n",
       "3  45556  111111111011111110111111111100010010            28.0       1.0   \n",
       "4  45556  111111111011111110111111111100010010            28.0       1.0   \n",
       "\n",
       "   tournament_id  number_of_players  usedRating  rating  player  \n",
       "0           4772                  6       13507   13507    6212  \n",
       "1           4772                  6       10988   13185   18332  \n",
       "2           4772                  6        8534   12801   18036  \n",
       "3           4772                  6        6401   12801   22799  \n",
       "4           4772                  6        4252   12757   15456  "
      ]
     },
     "execution_count": 16,
     "metadata": {},
     "output_type": "execute_result"
    }
   ],
   "source": [
    "player_results.head()"
   ]
  },
  {
   "cell_type": "code",
   "execution_count": 18,
   "id": "a885299e",
   "metadata": {},
   "outputs": [],
   "source": [
    "# construct player_results DataFrame for each question\n",
    "# drop columns that are not required to decrease amount of memory used \n",
    "\n",
    "player_results['questions_count'] = player_results['mask'].apply(lambda x: len(x))\n",
    "player_results = player_results[player_results['questions_count'] > 0]\n",
    "count = player_results['questions_count']\n",
    "count = count.repeat(count.max())\n",
    "count.index = count.index.rename('old_index')\n",
    "count = count.reset_index()\n",
    "count['count'] = count.groupby('old_index').cumcount()\n",
    "count = count[count['count'] < count['questions_count']].drop(['questions_count'], axis=1)\n",
    "count.set_index('old_index', inplace=True)\n",
    "\n",
    "question_results = player_results.join(count)\n",
    "question_results['count'] = question_results['count'].astype('int')\n",
    "question_results['result'] = question_results.apply(lambda row: row['mask'][row['count']], axis=1)"
   ]
  },
  {
   "cell_type": "markdown",
   "id": "828733e0",
   "metadata": {},
   "source": [
    "tournament_id + count - уникальный ключ каждого вопроса"
   ]
  },
  {
   "cell_type": "code",
   "execution_count": 21,
   "id": "34b8a9d4",
   "metadata": {},
   "outputs": [],
   "source": [
    "train_tournaments = tournaments[tournaments['dateStart'].dt.year == 2019]\n",
    "test_tournaments = tournaments[tournaments['dateStart'].dt.year == 2020]\n",
    "\n",
    "train = question_results[question_results['tournament_id'].isin(train_tournaments['id'])]\n",
    "test = question_results[question_results['tournament_id'].isin(test_tournaments['id'])]"
   ]
  },
  {
   "cell_type": "code",
   "execution_count": 22,
   "id": "2c598491",
   "metadata": {},
   "outputs": [
    {
     "data": {
      "text/plain": [
       "set()"
      ]
     },
     "execution_count": 22,
     "metadata": {},
     "output_type": "execute_result"
    }
   ],
   "source": [
    "set(train['tournament_id']) & set(test['tournament_id'])"
   ]
  },
  {
   "cell_type": "code",
   "execution_count": 23,
   "id": "ef9cf009",
   "metadata": {},
   "outputs": [
    {
     "data": {
      "text/plain": [
       "(24614, 59101)"
      ]
     },
     "execution_count": 23,
     "metadata": {},
     "output_type": "execute_result"
    }
   ],
   "source": [
    "len(set(train['player']) & set(test['player'])), len(set(train['player']))"
   ]
  },
  {
   "cell_type": "markdown",
   "id": "1cde7285",
   "metadata": {},
   "source": [
    "турниры не просочинились между годами - это хорошо."
   ]
  },
  {
   "cell_type": "markdown",
   "id": "e9fae92a",
   "metadata": {},
   "source": [
    "# Baseline models \n",
    "\n",
    "Построим разреженную матрицу для вопросов и игроков, таргетом в которой будет булева величина - ответил игрок на вопрос или нет. "
   ]
  },
  {
   "cell_type": "code",
   "execution_count": 24,
   "id": "8eb033ab",
   "metadata": {},
   "outputs": [
    {
     "data": {
      "text/plain": [
       "(        tournament_id  player  count\n",
       " 0                4772    6212      0\n",
       " 0                4772    6212      1\n",
       " 0                4772    6212      2\n",
       " 0                4772    6212      3\n",
       " 0                4772    6212      4\n",
       " ...               ...     ...    ...\n",
       " 552093           6255  217156     31\n",
       " 552093           6255  217156     32\n",
       " 552093           6255  217156     33\n",
       " 552093           6255  217156     34\n",
       " 552093           6255  217156     35\n",
       " \n",
       " [20910740 rows x 3 columns],\n",
       " 0         1\n",
       " 0         1\n",
       " 0         1\n",
       " 0         1\n",
       " 0         1\n",
       "          ..\n",
       " 552093    0\n",
       " 552093    0\n",
       " 552093    0\n",
       " 552093    0\n",
       " 552093    0\n",
       " Name: result, Length: 20910740, dtype: int64)"
      ]
     },
     "execution_count": 24,
     "metadata": {},
     "output_type": "execute_result"
    }
   ],
   "source": [
    "train = train[train['result'].isin(['1', '0'])]\n",
    "X_train = train[['tournament_id', 'player', 'count']]\n",
    "y_train = train['result'].astype('int')\n",
    "\n",
    "X_train, y_train"
   ]
  },
  {
   "cell_type": "markdown",
   "id": "18a4c69e",
   "metadata": {},
   "source": [
    "Закодируем вопросы и игроков с помощью OneHotEncoder"
   ]
  },
  {
   "cell_type": "code",
   "execution_count": 25,
   "id": "9b346843",
   "metadata": {},
   "outputs": [
    {
     "data": {
      "text/plain": [
       "(20910740, 60276)"
      ]
     },
     "execution_count": 25,
     "metadata": {},
     "output_type": "execute_result"
    }
   ],
   "source": [
    "from sklearn.preprocessing import OneHotEncoder\n",
    "from scipy.sparse import hstack\n",
    "import numpy as np\n",
    "\n",
    "encoder_questions = OneHotEncoder(handle_unknown='ignore')\n",
    "encoder_players = OneHotEncoder(handle_unknown='ignore')\n",
    "\n",
    "questions_ohe = encoder_questions.fit_transform(X_train[['tournament_id', 'count']])\n",
    "players_ohe = encoder_players.fit_transform(X_train[['player']])\n",
    "\n",
    "X_train = hstack((questions_ohe, players_ohe))\n",
    "X_train.shape"
   ]
  },
  {
   "cell_type": "code",
   "execution_count": 26,
   "id": "22ec56d1",
   "metadata": {},
   "outputs": [],
   "source": [
    "from sklearn.linear_model import LogisticRegression\n",
    "import pickle\n",
    "\n",
    "TRAIN = False\n",
    "\n",
    "baseline = LogisticRegression(max_iter=10000, n_jobs=-1)\n",
    "if TRAIN:\n",
    "    baseline.fit(X_train, y_train)\n",
    "    with open('baseline.pickle', 'wb') as bf:\n",
    "        pickle.dump(baseline, bf)\n",
    "else:\n",
    "    with open('baseline.pickle', 'rb') as bf:\n",
    "        baseline = pickle.load(bf)"
   ]
  },
  {
   "cell_type": "code",
   "execution_count": 27,
   "id": "cc1976a6",
   "metadata": {},
   "outputs": [
    {
     "data": {
      "text/plain": [
       "array([[-0.0620721 ,  0.22531979,  0.19548669, ..., -0.48117916,\n",
       "         0.75720149,  1.17367353]])"
      ]
     },
     "execution_count": 27,
     "metadata": {},
     "output_type": "execute_result"
    }
   ],
   "source": [
    "baseline_coef = baseline.coef_\n",
    "baseline_coef\n"
   ]
  },
  {
   "cell_type": "markdown",
   "id": "d43501b2",
   "metadata": {},
   "source": [
    "## Ранжируем команды\n",
    "\n",
    "Задача построить DF с колонками team, tournament -> position для тестирования модели.\n",
    "\n",
    "Будем использовать коэффициенты линейной регресии, для ранжирования команды. Можно попробовать ставить в соответствие команде:\n",
    "* максимальный коэффициент\n",
    "* средний коэффициент участников\n",
    "\n",
    "Затем ранжировать команды по этому коэффициенту.\n",
    "\n",
    "Хотя коэффициенты линейной регрессии могут для разных игроков быть разных порядков. Предполагаю, что для игроков одного класса они будут близки, поскольку они отвечают на вопросы одинаковой сложности."
   ]
  },
  {
   "cell_type": "code",
   "execution_count": 28,
   "id": "e97880e2",
   "metadata": {},
   "outputs": [
    {
     "data": {
      "text/plain": [
       "((4469664,), (4469664, 59101), (0, 60276))"
      ]
     },
     "execution_count": 28,
     "metadata": {},
     "output_type": "execute_result"
    }
   ],
   "source": [
    "players_coef = baseline_coef[questions_ohe.shape[1]:]\n",
    "\n",
    "test = test[test['result'].isin(['1', '0'])]\n",
    "y_test = test['result'].astype(int)\n",
    "X_test = encoder_players.transform(test[['player']])\n",
    "\n",
    "y_test.shape, X_test.shape, players_coef.shape"
   ]
  },
  {
   "cell_type": "code",
   "execution_count": 29,
   "id": "060ec134",
   "metadata": {},
   "outputs": [
    {
     "data": {
      "text/html": [
       "<div>\n",
       "<style scoped>\n",
       "    .dataframe tbody tr th:only-of-type {\n",
       "        vertical-align: middle;\n",
       "    }\n",
       "\n",
       "    .dataframe tbody tr th {\n",
       "        vertical-align: top;\n",
       "    }\n",
       "\n",
       "    .dataframe thead th {\n",
       "        text-align: right;\n",
       "    }\n",
       "</style>\n",
       "<table border=\"1\" class=\"dataframe\">\n",
       "  <thead>\n",
       "    <tr style=\"text-align: right;\">\n",
       "      <th></th>\n",
       "      <th>team</th>\n",
       "      <th>mask</th>\n",
       "      <th>questionsTotal</th>\n",
       "      <th>position</th>\n",
       "      <th>tournament_id</th>\n",
       "      <th>number_of_players</th>\n",
       "      <th>usedRating</th>\n",
       "      <th>rating</th>\n",
       "      <th>player</th>\n",
       "      <th>questions_count</th>\n",
       "      <th>count</th>\n",
       "      <th>result</th>\n",
       "      <th>player_coef</th>\n",
       "    </tr>\n",
       "  </thead>\n",
       "  <tbody>\n",
       "    <tr>\n",
       "      <th>461824</th>\n",
       "      <td>63804</td>\n",
       "      <td>000111011000111010000011010100110000</td>\n",
       "      <td>15.0</td>\n",
       "      <td>128.0</td>\n",
       "      <td>5958</td>\n",
       "      <td>6</td>\n",
       "      <td>19</td>\n",
       "      <td>23</td>\n",
       "      <td>168280</td>\n",
       "      <td>36</td>\n",
       "      <td>6</td>\n",
       "      <td>0</td>\n",
       "      <td>1.430505</td>\n",
       "    </tr>\n",
       "    <tr>\n",
       "      <th>560059</th>\n",
       "      <td>57404</td>\n",
       "      <td>0111101010100101110110001100011101010001111100...</td>\n",
       "      <td>54.0</td>\n",
       "      <td>3.0</td>\n",
       "      <td>6307</td>\n",
       "      <td>7</td>\n",
       "      <td>0</td>\n",
       "      <td>0</td>\n",
       "      <td>123190</td>\n",
       "      <td>81</td>\n",
       "      <td>69</td>\n",
       "      <td>1</td>\n",
       "      <td>0.748906</td>\n",
       "    </tr>\n",
       "    <tr>\n",
       "      <th>478291</th>\n",
       "      <td>57898</td>\n",
       "      <td>000000000001100000101000000110011000100000000</td>\n",
       "      <td>9.0</td>\n",
       "      <td>156.0</td>\n",
       "      <td>6016</td>\n",
       "      <td>6</td>\n",
       "      <td>7083</td>\n",
       "      <td>7083</td>\n",
       "      <td>145075</td>\n",
       "      <td>45</td>\n",
       "      <td>38</td>\n",
       "      <td>0</td>\n",
       "      <td>0.911556</td>\n",
       "    </tr>\n",
       "    <tr>\n",
       "      <th>521401</th>\n",
       "      <td>58832</td>\n",
       "      <td>111111110111110010111010111111111000</td>\n",
       "      <td>27.0</td>\n",
       "      <td>11.5</td>\n",
       "      <td>6208</td>\n",
       "      <td>6</td>\n",
       "      <td>6798</td>\n",
       "      <td>10197</td>\n",
       "      <td>131176</td>\n",
       "      <td>36</td>\n",
       "      <td>13</td>\n",
       "      <td>1</td>\n",
       "      <td>-0.117249</td>\n",
       "    </tr>\n",
       "    <tr>\n",
       "      <th>287391</th>\n",
       "      <td>4718</td>\n",
       "      <td>111111111010111001111111111111110111</td>\n",
       "      <td>31.0</td>\n",
       "      <td>49.0</td>\n",
       "      <td>5753</td>\n",
       "      <td>6</td>\n",
       "      <td>3136</td>\n",
       "      <td>9407</td>\n",
       "      <td>69091</td>\n",
       "      <td>36</td>\n",
       "      <td>32</td>\n",
       "      <td>0</td>\n",
       "      <td>0.082892</td>\n",
       "    </tr>\n",
       "  </tbody>\n",
       "</table>\n",
       "</div>"
      ],
      "text/plain": [
       "         team                                               mask  \\\n",
       "461824  63804               000111011000111010000011010100110000   \n",
       "560059  57404  0111101010100101110110001100011101010001111100...   \n",
       "478291  57898      000000000001100000101000000110011000100000000   \n",
       "521401  58832               111111110111110010111010111111111000   \n",
       "287391   4718               111111111010111001111111111111110111   \n",
       "\n",
       "        questionsTotal  position  tournament_id  number_of_players  \\\n",
       "461824            15.0     128.0           5958                  6   \n",
       "560059            54.0       3.0           6307                  7   \n",
       "478291             9.0     156.0           6016                  6   \n",
       "521401            27.0      11.5           6208                  6   \n",
       "287391            31.0      49.0           5753                  6   \n",
       "\n",
       "        usedRating  rating  player  questions_count  count result  player_coef  \n",
       "461824          19      23  168280               36      6      0     1.430505  \n",
       "560059           0       0  123190               81     69      1     0.748906  \n",
       "478291        7083    7083  145075               45     38      0     0.911556  \n",
       "521401        6798   10197  131176               36     13      1    -0.117249  \n",
       "287391        3136    9407   69091               36     32      0     0.082892  "
      ]
     },
     "execution_count": 29,
     "metadata": {},
     "output_type": "execute_result"
    }
   ],
   "source": [
    "test['player_coef'] = pd.Series((X_test @ baseline_coef[:, questions_ohe.shape[1]:].T)[:, 0])\n",
    "test.sample(5)"
   ]
  },
  {
   "cell_type": "markdown",
   "id": "71878549",
   "metadata": {},
   "source": [
    "Подход к ранжированию через максимум"
   ]
  },
  {
   "cell_type": "code",
   "execution_count": 30,
   "id": "1224e1bc",
   "metadata": {},
   "outputs": [],
   "source": [
    "agg_test_max = test.groupby(['team', 'tournament_id', 'position']).agg({'player_coef': 'max'})\n",
    "agg_test_max.sort_values(by='player_coef', ascending=False, inplace=True)\n",
    "agg_test_max['prediction'] = agg_test_max.groupby('tournament_id')['player_coef'].cumcount()\n",
    "agg_test_max['prediction'] = agg_test_max.groupby(['tournament_id', 'player_coef']).transform('mean')\n",
    "agg_test_max.reset_index(inplace=True)"
   ]
  },
  {
   "cell_type": "code",
   "execution_count": 48,
   "id": "eb20fdf2",
   "metadata": {},
   "outputs": [
    {
     "name": "stderr",
     "output_type": "stream",
     "text": [
      "/opt/homebrew/lib/python3.10/site-packages/scipy/stats/_stats_py.py:4878: ConstantInputWarning: An input array is constant; the correlation coefficient is not defined.\n",
      "  warnings.warn(stats.ConstantInputWarning(warn_msg))\n"
     ]
    },
    {
     "data": {
      "text/plain": [
       "tournament_id\n",
       "4957     (0.7949102434510068, 3.0902046227576965e-21)\n",
       "5414        (0.02108028523792547, 0.7283027148768544)\n",
       "5477      (-0.391021306196287, 6.287680167538463e-05)\n",
       "5705      (-0.324612774559201, 8.283660473172527e-10)\n",
       "5706    (0.35758486447968096, 2.7843941660943282e-08)\n",
       "                            ...                      \n",
       "6410                                       (nan, nan)\n",
       "6428     (0.8848266211333111, 0.00013115037946686886)\n",
       "6437       (0.43977520439020895, 0.04055687742503819)\n",
       "6438     (0.8696164022030688, 0.00011224597719068774)\n",
       "6456        (0.6179143806533246, 0.13920002190140476)\n",
       "Length: 173, dtype: object"
      ]
     },
     "execution_count": 48,
     "metadata": {},
     "output_type": "execute_result"
    }
   ],
   "source": [
    "agg_test_max.groupby('tournament_id').apply(lambda group: spearmanr(group['position'], group['prediction']))"
   ]
  },
  {
   "cell_type": "code",
   "execution_count": 46,
   "id": "02577032",
   "metadata": {},
   "outputs": [
    {
     "name": "stdout",
     "output_type": "stream",
     "text": [
      "Коэффициент Спирмена: 0.6350996322539653\n",
      "p-значение: 0.0\n",
      "Коэффициент Кендалла: 0.4642982299976038\n",
      "p-значение: 0.0\n"
     ]
    }
   ],
   "source": [
    "from scipy.stats import spearmanr, kendalltau\n",
    "\n",
    "x = agg_test_max['position']\n",
    "y = agg_test_max['prediction']\n",
    "\n",
    "# Расчет статистики Спирмена\n",
    "corr_spearman, p_value = spearmanr(x, y)\n",
    "print(\"Коэффициент Спирмена:\", corr_spearman)\n",
    "print(\"p-значение:\", p_value)\n",
    "\n",
    "# Расчет статистики Кендалла\n",
    "corr_kendall, p_value = kendalltau(x, y)\n",
    "print(\"Коэффициент Кендалла:\", corr_kendall)\n",
    "print(\"p-значение:\", p_value)\n"
   ]
  },
  {
   "cell_type": "markdown",
   "id": "638a6937",
   "metadata": {},
   "source": [
    "Подход к ранжированию через минимум"
   ]
  },
  {
   "cell_type": "code",
   "execution_count": 32,
   "id": "c441ff25",
   "metadata": {},
   "outputs": [],
   "source": [
    "agg_test_mean = test.groupby(['team', 'tournament_id', 'position']).agg({'player_coef': 'mean'})\n",
    "agg_test_mean.sort_values(by='player_coef', ascending=False, inplace=True)\n",
    "agg_test_mean['prediction'] = agg_test_mean.groupby('tournament_id')['player_coef'].cumcount()\n",
    "agg_test_mean['prediction'] = agg_test_mean.groupby(['tournament_id', 'player_coef']).transform('mean')\n",
    "agg_test_mean.reset_index(inplace=True)"
   ]
  },
  {
   "cell_type": "code",
   "execution_count": 47,
   "id": "db0a05e1",
   "metadata": {},
   "outputs": [
    {
     "name": "stdout",
     "output_type": "stream",
     "text": [
      "Коэффициент Спирмена: 0.633642026429817\n",
      "p-значение: 0.0\n",
      "Коэффициент Кендалла: 0.4631452358299374\n",
      "p-значение: 0.0\n"
     ]
    }
   ],
   "source": [
    "from scipy.stats import spearmanr, kendalltau\n",
    "\n",
    "x = agg_test_mean['position']\n",
    "y = agg_test_mean['prediction']\n",
    "\n",
    "# Расчет статистики Спирмена\n",
    "corr_spearman, p_value = spearmanr(x, y)\n",
    "print(\"Коэффициент Спирмена:\", corr_spearman)\n",
    "print(\"p-значение:\", p_value)\n",
    "\n",
    "# Расчет статистики Кендалла\n",
    "corr_kendall, p_value = kendalltau(x, y)\n",
    "print(\"Коэффициент Кендалла:\", corr_kendall)\n",
    "print(\"p-значение:\", p_value)\n"
   ]
  },
  {
   "cell_type": "markdown",
   "id": "b67198f7",
   "metadata": {},
   "source": [
    "Метрики отрицательные, что говорит нам о плохой модели для определения силы игроков."
   ]
  },
  {
   "cell_type": "markdown",
   "id": "4502b440",
   "metadata": {},
   "source": [
    "# EM алгоритм"
   ]
  },
  {
   "cell_type": "code",
   "execution_count": 34,
   "id": "11487756",
   "metadata": {},
   "outputs": [
    {
     "data": {
      "text/html": [
       "<div>\n",
       "<style scoped>\n",
       "    .dataframe tbody tr th:only-of-type {\n",
       "        vertical-align: middle;\n",
       "    }\n",
       "\n",
       "    .dataframe tbody tr th {\n",
       "        vertical-align: top;\n",
       "    }\n",
       "\n",
       "    .dataframe thead th {\n",
       "        text-align: right;\n",
       "    }\n",
       "</style>\n",
       "<table border=\"1\" class=\"dataframe\">\n",
       "  <thead>\n",
       "    <tr style=\"text-align: right;\">\n",
       "      <th></th>\n",
       "      <th>team</th>\n",
       "      <th>mask</th>\n",
       "      <th>questionsTotal</th>\n",
       "      <th>position</th>\n",
       "      <th>tournament_id</th>\n",
       "      <th>number_of_players</th>\n",
       "      <th>usedRating</th>\n",
       "      <th>rating</th>\n",
       "      <th>player</th>\n",
       "      <th>questions_count</th>\n",
       "      <th>count</th>\n",
       "      <th>result</th>\n",
       "    </tr>\n",
       "  </thead>\n",
       "  <tbody>\n",
       "    <tr>\n",
       "      <th>0</th>\n",
       "      <td>45556</td>\n",
       "      <td>111111111011111110111111111100010010</td>\n",
       "      <td>28.0</td>\n",
       "      <td>1.0</td>\n",
       "      <td>4772</td>\n",
       "      <td>6</td>\n",
       "      <td>13507</td>\n",
       "      <td>13507</td>\n",
       "      <td>6212</td>\n",
       "      <td>36</td>\n",
       "      <td>0</td>\n",
       "      <td>1</td>\n",
       "    </tr>\n",
       "    <tr>\n",
       "      <th>0</th>\n",
       "      <td>45556</td>\n",
       "      <td>111111111011111110111111111100010010</td>\n",
       "      <td>28.0</td>\n",
       "      <td>1.0</td>\n",
       "      <td>4772</td>\n",
       "      <td>6</td>\n",
       "      <td>13507</td>\n",
       "      <td>13507</td>\n",
       "      <td>6212</td>\n",
       "      <td>36</td>\n",
       "      <td>1</td>\n",
       "      <td>1</td>\n",
       "    </tr>\n",
       "    <tr>\n",
       "      <th>0</th>\n",
       "      <td>45556</td>\n",
       "      <td>111111111011111110111111111100010010</td>\n",
       "      <td>28.0</td>\n",
       "      <td>1.0</td>\n",
       "      <td>4772</td>\n",
       "      <td>6</td>\n",
       "      <td>13507</td>\n",
       "      <td>13507</td>\n",
       "      <td>6212</td>\n",
       "      <td>36</td>\n",
       "      <td>2</td>\n",
       "      <td>1</td>\n",
       "    </tr>\n",
       "    <tr>\n",
       "      <th>0</th>\n",
       "      <td>45556</td>\n",
       "      <td>111111111011111110111111111100010010</td>\n",
       "      <td>28.0</td>\n",
       "      <td>1.0</td>\n",
       "      <td>4772</td>\n",
       "      <td>6</td>\n",
       "      <td>13507</td>\n",
       "      <td>13507</td>\n",
       "      <td>6212</td>\n",
       "      <td>36</td>\n",
       "      <td>3</td>\n",
       "      <td>1</td>\n",
       "    </tr>\n",
       "    <tr>\n",
       "      <th>0</th>\n",
       "      <td>45556</td>\n",
       "      <td>111111111011111110111111111100010010</td>\n",
       "      <td>28.0</td>\n",
       "      <td>1.0</td>\n",
       "      <td>4772</td>\n",
       "      <td>6</td>\n",
       "      <td>13507</td>\n",
       "      <td>13507</td>\n",
       "      <td>6212</td>\n",
       "      <td>36</td>\n",
       "      <td>4</td>\n",
       "      <td>1</td>\n",
       "    </tr>\n",
       "  </tbody>\n",
       "</table>\n",
       "</div>"
      ],
      "text/plain": [
       "    team                                  mask  questionsTotal  position  \\\n",
       "0  45556  111111111011111110111111111100010010            28.0       1.0   \n",
       "0  45556  111111111011111110111111111100010010            28.0       1.0   \n",
       "0  45556  111111111011111110111111111100010010            28.0       1.0   \n",
       "0  45556  111111111011111110111111111100010010            28.0       1.0   \n",
       "0  45556  111111111011111110111111111100010010            28.0       1.0   \n",
       "\n",
       "   tournament_id  number_of_players  usedRating  rating  player  \\\n",
       "0           4772                  6       13507   13507    6212   \n",
       "0           4772                  6       13507   13507    6212   \n",
       "0           4772                  6       13507   13507    6212   \n",
       "0           4772                  6       13507   13507    6212   \n",
       "0           4772                  6       13507   13507    6212   \n",
       "\n",
       "   questions_count  count result  \n",
       "0               36      0      1  \n",
       "0               36      1      1  \n",
       "0               36      2      1  \n",
       "0               36      3      1  \n",
       "0               36      4      1  "
      ]
     },
     "execution_count": 34,
     "metadata": {},
     "output_type": "execute_result"
    }
   ],
   "source": [
    "train.head()"
   ]
  },
  {
   "cell_type": "code",
   "execution_count": 44,
   "id": "fd17fac1",
   "metadata": {},
   "outputs": [
    {
     "name": "stderr",
     "output_type": "stream",
     "text": [
      "/var/folders/46/9pmddt197tg1cz85qrsc593w0000gn/T/ipykernel_30713/1630289245.py:18: DeprecationWarning: elementwise comparison failed; this will raise an error in the future.\n",
      "  team_idx = np.where(unique_teams == teams[i])[0][0]\n"
     ]
    },
    {
     "ename": "ValueError",
     "evalue": "('Lengths must match to compare', (36,), (11692,))",
     "output_type": "error",
     "traceback": [
      "\u001b[0;31m---------------------------------------------------------------------------\u001b[0m",
      "\u001b[0;31mValueError\u001b[0m                                Traceback (most recent call last)",
      "Cell \u001b[0;32mIn [44], line 18\u001b[0m\n\u001b[1;32m     16\u001b[0m z \u001b[38;5;241m=\u001b[39m np\u001b[38;5;241m.\u001b[39mzeros((N, K)) \u001b[38;5;66;03m# posterior probabilities\u001b[39;00m\n\u001b[1;32m     17\u001b[0m \u001b[38;5;28;01mfor\u001b[39;00m i \u001b[38;5;129;01min\u001b[39;00m \u001b[38;5;28mrange\u001b[39m(N):\n\u001b[0;32m---> 18\u001b[0m     team_idx \u001b[38;5;241m=\u001b[39m np\u001b[38;5;241m.\u001b[39mwhere(\u001b[43munique_teams\u001b[49m\u001b[43m \u001b[49m\u001b[38;5;241;43m==\u001b[39;49m\u001b[43m \u001b[49m\u001b[43mteams\u001b[49m\u001b[43m[\u001b[49m\u001b[43mi\u001b[49m\u001b[43m]\u001b[49m)[\u001b[38;5;241m0\u001b[39m][\u001b[38;5;241m0\u001b[39m]\n\u001b[1;32m     19\u001b[0m     \u001b[38;5;28;01mfor\u001b[39;00m j \u001b[38;5;129;01min\u001b[39;00m \u001b[38;5;28mrange\u001b[39m(K):\n\u001b[1;32m     20\u001b[0m         z[i, j] \u001b[38;5;241m=\u001b[39m pi[j] \u001b[38;5;241m*\u001b[39m multivariate_normal\u001b[38;5;241m.\u001b[39mpdf(data[i, \u001b[38;5;241m2\u001b[39m:], mean\u001b[38;5;241m=\u001b[39mmu[j], cov\u001b[38;5;241m=\u001b[39msigma[j])\n",
      "File \u001b[0;32m/opt/homebrew/lib/python3.10/site-packages/pandas/core/ops/common.py:69\u001b[0m, in \u001b[0;36m_unpack_zerodim_and_defer.<locals>.new_method\u001b[0;34m(self, other)\u001b[0m\n\u001b[1;32m     65\u001b[0m             \u001b[38;5;28;01mreturn\u001b[39;00m \u001b[38;5;28mNotImplemented\u001b[39m\n\u001b[1;32m     67\u001b[0m other \u001b[38;5;241m=\u001b[39m item_from_zerodim(other)\n\u001b[0;32m---> 69\u001b[0m \u001b[38;5;28;01mreturn\u001b[39;00m \u001b[43mmethod\u001b[49m\u001b[43m(\u001b[49m\u001b[38;5;28;43mself\u001b[39;49m\u001b[43m,\u001b[49m\u001b[43m \u001b[49m\u001b[43mother\u001b[49m\u001b[43m)\u001b[49m\n",
      "File \u001b[0;32m/opt/homebrew/lib/python3.10/site-packages/pandas/core/arraylike.py:32\u001b[0m, in \u001b[0;36mOpsMixin.__eq__\u001b[0;34m(self, other)\u001b[0m\n\u001b[1;32m     30\u001b[0m \u001b[38;5;129m@unpack_zerodim_and_defer\u001b[39m(\u001b[38;5;124m\"\u001b[39m\u001b[38;5;124m__eq__\u001b[39m\u001b[38;5;124m\"\u001b[39m)\n\u001b[1;32m     31\u001b[0m \u001b[38;5;28;01mdef\u001b[39;00m \u001b[38;5;21m__eq__\u001b[39m(\u001b[38;5;28mself\u001b[39m, other):\n\u001b[0;32m---> 32\u001b[0m     \u001b[38;5;28;01mreturn\u001b[39;00m \u001b[38;5;28;43mself\u001b[39;49m\u001b[38;5;241;43m.\u001b[39;49m\u001b[43m_cmp_method\u001b[49m\u001b[43m(\u001b[49m\u001b[43mother\u001b[49m\u001b[43m,\u001b[49m\u001b[43m \u001b[49m\u001b[43moperator\u001b[49m\u001b[38;5;241;43m.\u001b[39;49m\u001b[43meq\u001b[49m\u001b[43m)\u001b[49m\n",
      "File \u001b[0;32m/opt/homebrew/lib/python3.10/site-packages/pandas/core/series.py:5502\u001b[0m, in \u001b[0;36mSeries._cmp_method\u001b[0;34m(self, other, op)\u001b[0m\n\u001b[1;32m   5499\u001b[0m rvalues \u001b[38;5;241m=\u001b[39m extract_array(other, extract_numpy\u001b[38;5;241m=\u001b[39m\u001b[38;5;28;01mTrue\u001b[39;00m, extract_range\u001b[38;5;241m=\u001b[39m\u001b[38;5;28;01mTrue\u001b[39;00m)\n\u001b[1;32m   5501\u001b[0m \u001b[38;5;28;01mwith\u001b[39;00m np\u001b[38;5;241m.\u001b[39merrstate(\u001b[38;5;28mall\u001b[39m\u001b[38;5;241m=\u001b[39m\u001b[38;5;124m\"\u001b[39m\u001b[38;5;124mignore\u001b[39m\u001b[38;5;124m\"\u001b[39m):\n\u001b[0;32m-> 5502\u001b[0m     res_values \u001b[38;5;241m=\u001b[39m \u001b[43mops\u001b[49m\u001b[38;5;241;43m.\u001b[39;49m\u001b[43mcomparison_op\u001b[49m\u001b[43m(\u001b[49m\u001b[43mlvalues\u001b[49m\u001b[43m,\u001b[49m\u001b[43m \u001b[49m\u001b[43mrvalues\u001b[49m\u001b[43m,\u001b[49m\u001b[43m \u001b[49m\u001b[43mop\u001b[49m\u001b[43m)\u001b[49m\n\u001b[1;32m   5504\u001b[0m \u001b[38;5;28;01mreturn\u001b[39;00m \u001b[38;5;28mself\u001b[39m\u001b[38;5;241m.\u001b[39m_construct_result(res_values, name\u001b[38;5;241m=\u001b[39mres_name)\n",
      "File \u001b[0;32m/opt/homebrew/lib/python3.10/site-packages/pandas/core/ops/array_ops.py:261\u001b[0m, in \u001b[0;36mcomparison_op\u001b[0;34m(left, right, op)\u001b[0m\n\u001b[1;32m    256\u001b[0m \u001b[38;5;28;01mif\u001b[39;00m \u001b[38;5;28misinstance\u001b[39m(rvalues, (np\u001b[38;5;241m.\u001b[39mndarray, ABCExtensionArray)):\n\u001b[1;32m    257\u001b[0m     \u001b[38;5;66;03m# TODO: make this treatment consistent across ops and classes.\u001b[39;00m\n\u001b[1;32m    258\u001b[0m     \u001b[38;5;66;03m#  We are not catching all listlikes here (e.g. frozenset, tuple)\u001b[39;00m\n\u001b[1;32m    259\u001b[0m     \u001b[38;5;66;03m#  The ambiguous case is object-dtype.  See GH#27803\u001b[39;00m\n\u001b[1;32m    260\u001b[0m     \u001b[38;5;28;01mif\u001b[39;00m \u001b[38;5;28mlen\u001b[39m(lvalues) \u001b[38;5;241m!=\u001b[39m \u001b[38;5;28mlen\u001b[39m(rvalues):\n\u001b[0;32m--> 261\u001b[0m         \u001b[38;5;28;01mraise\u001b[39;00m \u001b[38;5;167;01mValueError\u001b[39;00m(\n\u001b[1;32m    262\u001b[0m             \u001b[38;5;124m\"\u001b[39m\u001b[38;5;124mLengths must match to compare\u001b[39m\u001b[38;5;124m\"\u001b[39m, lvalues\u001b[38;5;241m.\u001b[39mshape, rvalues\u001b[38;5;241m.\u001b[39mshape\n\u001b[1;32m    263\u001b[0m         )\n\u001b[1;32m    265\u001b[0m \u001b[38;5;28;01mif\u001b[39;00m should_extension_dispatch(lvalues, rvalues) \u001b[38;5;129;01mor\u001b[39;00m (\n\u001b[1;32m    266\u001b[0m     (\u001b[38;5;28misinstance\u001b[39m(rvalues, (Timedelta, BaseOffset, Timestamp)) \u001b[38;5;129;01mor\u001b[39;00m right \u001b[38;5;129;01mis\u001b[39;00m NaT)\n\u001b[1;32m    267\u001b[0m     \u001b[38;5;129;01mand\u001b[39;00m \u001b[38;5;129;01mnot\u001b[39;00m is_object_dtype(lvalues\u001b[38;5;241m.\u001b[39mdtype)\n\u001b[1;32m    268\u001b[0m ):\n\u001b[1;32m    269\u001b[0m     \u001b[38;5;66;03m# Call the method on lvalues\u001b[39;00m\n\u001b[1;32m    270\u001b[0m     res_values \u001b[38;5;241m=\u001b[39m op(lvalues, rvalues)\n",
      "\u001b[0;31mValueError\u001b[0m: ('Lengths must match to compare', (36,), (11692,))"
     ]
    }
   ],
   "source": [
    "from scipy.stats import multivariate_normal\n",
    "\n",
    "# Extract team membership\n",
    "data = train[['player', 'team', ]]\n",
    "teams = data.iloc[:, 1].astype(int)\n",
    "unique_teams = np.unique(teams)\n",
    "K = unique_teams.shape[0] # number of mixture components\n",
    "N = data.shape[0] # number of data points\n",
    "\n",
    "# Initialize parameters\n",
    "pi = np.ones(K) / K # prior probabilities\n",
    "mu = np.random.rand(K, 2) # means of Gaussian components\n",
    "sigma = np.random.rand(K, 2, 2) # covariance matrices of Gaussian components\n",
    "\n",
    "# E-step\n",
    "z = np.zeros((N, K)) # posterior probabilities\n",
    "for i in range(N):\n",
    "    team_idx = np.where(unique_teams == teams[i])[0][0]\n",
    "    for j in range(K):\n",
    "        z[i, j] = pi[j] * multivariate_normal.pdf(data[i, 2:], mean=mu[j], cov=sigma[j])\n",
    "    z[i] /= np.sum(z[i])\n",
    "    z[i] *= z[teams == teams[i], team_idx].prod()\n",
    "\n",
    "# M-step\n",
    "Nk = np.sum(z, axis=0) # effective number of points in each component\n",
    "pi = Nk / N # update prior probabilities\n",
    "for j in range(K):\n",
    "    idx = teams == unique_teams[j]\n",
    "    mu[j] = np.dot(z[idx, j], data[idx, 2:]) / Nk[j] # update means\n",
    "    sigma[j] = np.zeros((2, 2)) # update covariance matrices\n",
    "    for i in range(idx.sum()):\n",
    "        diff = data[idx, 2:][i] - mu[j]\n",
    "        sigma[j] += z[idx, j][i] * np.outer(diff, diff)\n",
    "    sigma[j] /= Nk[j]\n"
   ]
  },
  {
   "cell_type": "code",
   "execution_count": 42,
   "id": "acfeeabc",
   "metadata": {},
   "outputs": [
    {
     "data": {
      "text/plain": [
       "1213485"
      ]
     },
     "execution_count": 42,
     "metadata": {},
     "output_type": "execute_result"
    }
   ],
   "source": [
    "np.where(unique_teams[0] == teams)[0][0]"
   ]
  },
  {
   "cell_type": "code",
   "execution_count": 39,
   "id": "5ec5c12d",
   "metadata": {},
   "outputs": [
    {
     "data": {
      "text/plain": [
       "0    45556\n",
       "0    45556\n",
       "0    45556\n",
       "0    45556\n",
       "0    45556\n",
       "0    45556\n",
       "0    45556\n",
       "0    45556\n",
       "0    45556\n",
       "0    45556\n",
       "0    45556\n",
       "0    45556\n",
       "0    45556\n",
       "0    45556\n",
       "0    45556\n",
       "0    45556\n",
       "0    45556\n",
       "0    45556\n",
       "0    45556\n",
       "0    45556\n",
       "0    45556\n",
       "0    45556\n",
       "0    45556\n",
       "0    45556\n",
       "0    45556\n",
       "0    45556\n",
       "0    45556\n",
       "0    45556\n",
       "0    45556\n",
       "0    45556\n",
       "0    45556\n",
       "0    45556\n",
       "0    45556\n",
       "0    45556\n",
       "0    45556\n",
       "0    45556\n",
       "Name: team, dtype: int64"
      ]
     },
     "execution_count": 39,
     "metadata": {},
     "output_type": "execute_result"
    }
   ],
   "source": [
    "teams[i]"
   ]
  },
  {
   "cell_type": "code",
   "execution_count": null,
   "id": "26e28273",
   "metadata": {},
   "outputs": [],
   "source": []
  }
 ],
 "metadata": {
  "kernelspec": {
   "display_name": "Python 3 (ipykernel)",
   "language": "python",
   "name": "python3"
  },
  "language_info": {
   "codemirror_mode": {
    "name": "ipython",
    "version": 3
   },
   "file_extension": ".py",
   "mimetype": "text/x-python",
   "name": "python",
   "nbconvert_exporter": "python",
   "pygments_lexer": "ipython3",
   "version": "3.10.10"
  }
 },
 "nbformat": 4,
 "nbformat_minor": 5
}
