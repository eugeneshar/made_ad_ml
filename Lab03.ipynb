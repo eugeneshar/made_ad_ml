{
 "cells": [
  {
   "cell_type": "markdown",
   "id": "e09a023d",
   "metadata": {},
   "source": [
    "# Продвинутое машинное обучение: \n",
    "## Домашнее задание 3\n",
    "Третье домашнее задание посвящено достаточно простой, но, надеюсь, интересной задаче, в которой потребуется творчески применить методы сэмплирования. Как и раньше, в качестве решения ожидается ссылка на jupyter-ноутбук на вашем github (или публичный, или с доступом для snikolenko); ссылку обязательно нужно прислать в виде сданного домашнего задания на портале Академии. Как всегда, любые комментарии, новые идеи и рассуждения на тему категорически приветствуются. \n",
    "\n",
    "В этом небольшом домашнем задании мы попробуем улучшить метод Шерлока Холмса."
   ]
  },
  {
   "cell_type": "markdown",
   "id": "01afc221",
   "metadata": {},
   "source": [
    "Расшифруем несколько предложений простым частотным алгоритмом."
   ]
  },
  {
   "cell_type": "code",
   "execution_count": 13,
   "id": "025733af",
   "metadata": {},
   "outputs": [],
   "source": [
    "import re\n",
    "from collections import Counter"
   ]
  },
  {
   "cell_type": "code",
   "execution_count": 75,
   "id": "1a2ef016",
   "metadata": {},
   "outputs": [
    {
     "data": {
      "text/plain": [
       "('Annotation\\n\\n\\n\\t\"Война и мир\" – самый известный роман Льва Николаевича Толстого, как никакое другое произведение писателя, отражает глубину его мироощущения и философии.\\tЭта книга из разряда вечных, потому что она обо всем – о жизни и смерти, о любви и чести, о мужестве и героизме, о славе и подвиге, о войне и мире.\\tПервый том знакомит с высшим обществом России XIX века. Показаны взаимоотношения между родителями и детьми в семье Ростовых, сватовство у Болконских, интриги у Безуховых, вечера в салоне фрейлины А.П.Шерер, балы в Москве и Петербурге.\\n\\n\\n\\n\\n\\n* * *\\n\\n\\n\\nЛев Николаевич ТолстойЧАСТЬ ПЕРВАЯ\\n\\nЧАСТЬ BTОРАЯ\\n\\nЧАСТЬ ТРЕТЬЯ\\n\\n\\n\\n\\n\\n* * *\\n\\n\\n\\n\\n\\nЛев Николаевич Толстой\\n\\nВОЙНА И МИР\\n\\nТом 1\\n\\n\\n\\n\\nЧАСТЬ ПЕРВАЯ\\n\\n\\n\\n\\n\\nI\\n\\n\\n— Еh bien, mon prince. Gênes et Lucques ne sont plus que des apanages, des поместья, de la famille Buonaparte. Non, je vous préviens, que si vous ne me dites pas, que nous avons la guerre, si vous vous permettez encore de pallier toutes les infamies, toutes les atrocités de cet Antichri',\n",
       " 717873)"
      ]
     },
     "execution_count": 75,
     "metadata": {},
     "output_type": "execute_result"
    }
   ],
   "source": [
    "with open('corpora/WarAndPeace.txt', 'r') as f:\n",
    "    text_ru = f.read()\n",
    "    \n",
    "text_ru[:1000], len(text_ru)"
   ]
  },
  {
   "cell_type": "code",
   "execution_count": 76,
   "id": "d9953556",
   "metadata": {},
   "outputs": [
    {
     "data": {
      "text/plain": [
       "'\\ufeffThe Project Gutenberg EBook of War and Peace, by Leo Tolstoy\\n\\nThis eBook is for the use of anyone anywhere at no cost and with almost\\nno restrictions whatsoever.  You may copy it, give it away or re-use it\\nunder the terms of the Project Gutenberg License included with this\\neBook or online at www.gutenberg.org\\n\\n\\nTitle: War and Peace\\n\\nAuthor: Leo Tolstoy\\n\\nTranslators: Louise and Aylmer Maude\\n\\nPosting Date: January 10, 2009 [EBook #2600]\\n\\nLast Updated: March 15, 2013\\n\\nLanguage: English\\n\\n\\n*** START OF THIS PROJECT GUTENBERG EBOOK WAR AND PEACE ***\\n\\nAn Anonymous Volunteer, and David Widger\\n\\n\\n\\n\\n\\nWAR AND PEACE\\n\\nBy Leo Tolstoy/Tolstoi\\n\\nCONTENTS\\n\\nBOOK ONE: 1805\\n\\nCHAPTER I\\n\\nCHAPTER II\\n\\nCHAPTER III\\n\\nCHAPTER IV\\n\\nCHAPTER V\\n\\nCHAPTER VI\\n\\nCHAPTER VII\\n\\nCHAPTER VIII\\n\\nCHAPTER IX\\n\\nCHAPTER X\\n\\nCHAPTER XI\\n\\nCHAPTER XII\\n\\nCHAPTER XIII\\n\\nCHAPTER XIV\\n\\nCHAPTER XV\\n\\nCHAPTER XVI\\n\\nCHAPTER XVII\\n\\nCHAPTER XVIII\\n\\nCHAPTER XIX\\n\\nCHAPTER XX\\n\\nCHAPTER XXI\\n\\nCHAPTER XXII\\n\\nCHAPTER XXIII\\n\\nCHAPTER XXIV\\n\\nCHAPTER XXV\\n\\nCHAPTER XXVI\\n\\nCH'"
      ]
     },
     "execution_count": 76,
     "metadata": {},
     "output_type": "execute_result"
    }
   ],
   "source": [
    "with open('corpora/WarAndPeaceEng.txt', 'r') as f:\n",
    "    text_eng = f.read()\n",
    "    \n",
    "text_eng[:1000]"
   ]
  },
  {
   "cell_type": "code",
   "execution_count": 78,
   "id": "55083cfd",
   "metadata": {},
   "outputs": [
    {
     "data": {
      "text/plain": [
       "[(' ', 117256),\n",
       " ('о', 61282),\n",
       " ('а', 45209),\n",
       " ('е', 42519),\n",
       " ('и', 35838),\n",
       " ('н', 35119),\n",
       " ('т', 30619),\n",
       " ('с', 28128),\n",
       " ('л', 27277),\n",
       " ('в', 24824)]"
      ]
     },
     "execution_count": 78,
     "metadata": {},
     "output_type": "execute_result"
    }
   ],
   "source": [
    "def simple_text_preparation(text, regex):\n",
    "    text = text.lower()\n",
    "    text = text.replace('.', ' ')\n",
    "    text = text.strip()\n",
    "    text = re.sub(regex, '', text)\n",
    "    return text\n",
    "\n",
    "text_ru = simple_text_preparation(text_ru, r'[^а-я ]')\n",
    "text_end = simple_text_preparation(text_eng, r'[^a-z ]')\n",
    "\n",
    "counter_ru = Counter(text_ru)\n",
    "counter_ru.most_common(10)"
   ]
  },
  {
   "cell_type": "code",
   "execution_count": 88,
   "id": "fe5a8d91",
   "metadata": {},
   "outputs": [
    {
     "data": {
      "text/plain": [
       "('гшбуц с юс', 'война и ми')"
      ]
     },
     "execution_count": 88,
     "metadata": {},
     "output_type": "execute_result"
    }
   ],
   "source": [
    "def list_shuffle(l):\n",
    "    l.remove(' ')\n",
    "    before_ = l.copy()\n",
    "    random.shuffle(l)\n",
    "    after_ = l\n",
    "    return dict(zip(before_, after_))\n",
    "\n",
    "\n",
    "def text_shuffle(text, shuffle):\n",
    "    new_text = list(text)\n",
    "    for i, letter in enumerate(text):\n",
    "        if letter in shuffle.keys():\n",
    "            new_text[i] = shuffle[letter]\n",
    "    return ''.join(new_text)\n",
    "    \n",
    "shuffle = list_shuffle(list(counter_ru))\n",
    "\n",
    "new_text = text_shuffle(text_ru, shuffle)\n",
    "    \n",
    "new_text[:10], text_ru[:10]"
   ]
  },
  {
   "cell_type": "markdown",
   "id": "967041df",
   "metadata": {},
   "source": [
    "Так мы производим замену букв в тексте с помощью случайной пересатновки алфавита. Попробуем восстановить текст по такой расстановке."
   ]
  },
  {
   "cell_type": "code",
   "execution_count": 89,
   "id": "63b88f4d",
   "metadata": {},
   "outputs": [
    {
     "data": {
      "text/plain": [
       "('ел через очки то на него то на княгиню и зашевелился как будто он тоже хотел встать но опять раздумывал  что мне за дело что тут мсье пьер  вдруг сказала маленькая княгиня и хорошенькое лицо ее вдруг распустилось в слезливую гримасу   я тебе давно хотела сказать  за что ты ко мне так переменился что я тебе сделала ты едешь в армию ты меня не жалеешь  за что   только сказал князь андрей но в этом слове были и просьба и угроза и главное уверение в том что она сама раскается в своих словах но она торопливо продолжала ты обращаешься со мной как с больною или с ребенком  я вс вижу  разве ты такой был полгода назад  я прошу вас перестать  сказал князь андрей еще выразительнее пьер вс более и более приходивший в волнение во время этого разговора встал и подошел к княгине  он казалось не мог переносить вида слез и сам готов был заплакать  успокойтесь княгиня  вам это так кажется потому что я вас уверяю я сам испытал отчего потому что нет извините чужой тут лишний нет успокойтесь прощайтекнязь ',\n",
       " 'двигался  войска левого фланга и пехота и гусары чувствовали что начальство само не знает что делать и нерешимость начальников сообщалась войскам поскорее поскорее бы думал ростов чувствуя что наконецто наступило время изведать наслаждение атаки про которое он так много слышал от товарищейгусаров  с богом гебята  прозвучал голос денисова  гысыо магшв переднем ряду заколыхались крупы лошадей  грачик потянул поводья и сам тронулся справа ростов видел первые ряды своих гусар а еще дальше впереди виднелась ему темная полоса которую он не мог рассмотреть но считал неприятелем  выстрелы были слышны но в отдалении  прибавь рыси  послышалась команда и ростов чувствовал как поддает задом перебивая в галоп его грачик он вперед угадывал его движения и ему становилось все веселее и веселее  он заметил одинокое дерево впереди  это дерево сначала было впереди на середине той черты которая казалась столь страшною  а вот и перешли эту черту и не только ничего страшного не было но вс веселее и оживленн')"
      ]
     },
     "execution_count": 89,
     "metadata": {},
     "output_type": "execute_result"
    }
   ],
   "source": [
    "sample_size = 1000\n",
    "\n",
    "train_begin = random.randint(0, len(text_ru) - sample_size)\n",
    "test_begin = random.randint(0, len(text_ru) - sample_size)\n",
    "train_text = text_ru[train_begin: train_begin + sample_size]\n",
    "test_text = text_ru[test_begin: test_begin + sample_size]\n",
    "\n",
    "train_text, test_text"
   ]
  },
  {
   "cell_type": "code",
   "execution_count": 90,
   "id": "9634af73",
   "metadata": {},
   "outputs": [
    {
     "data": {
      "text/plain": [
       "('нт чнрнд йчыа шй юл юнцй шй юл ыюгцаюя а длхнэнтатмг ылы ьбщшй йю шйкн вйшнт эмшлшп юй йогшп рлдщбзжэлт  чшй зюн дл щнтй чшй шбш змпн опнр  эщрбц мылдлтл злтнюпылг ыюгцаюг а вйрйхнюпыйн таий нн эщрбц рлмобмшатймп э мтндтаэбя цразлмб   г шньн щлэюй вйшнтл мылдлшп  дл чшй шж ый зюн шлы онрнзнюатмг чшй г шньн мщнтлтл шж нщнхп э лрзая шж знюг юн клтннхп  дл чшй   шйтпый мылдлт ыюгдп лющрнс юй э ушйз мтйэн ьжта а орймпьл а бцрйдл а цтлэюйн бэнрнюан э шйз чшй йюл млзл рлмылншмг э мэйав мтйэлв юй йюл шйрйотаэй орйщйтклтл шж йьрлелнхпмг мй зюйс ылы м ьйтпюйя ата м рньнюыйз  г эм эакб  рлдэн шж шлыйс ьжт ойтцйщл юлдлщ  г орйхб элм онрнмшлшп  мылдлт ыюгдп лющрнс нен эжрлдашнтпюнн опнр эм ьйтнн а ьйтнн оравйщаэхас э эйтюнюан эй эрнзг ушйцй рлдцйэйрл эмшлт а ойщйхнт ы ыюгцаюн  йю ылдлтймп юн зйц онрнюймашп эащл мтнд а млз цйшйэ ьжт длотлылшп  бмойыйсшнмп ыюгцаюг  элз ушй шлы ылкншмг ойшйзб чшй г элм бэнргя г млз аможшлт йшчнцй ойшйзб чшй юнш адэаюашн чбкйс шбш тахюас юнш бмойыйсшнмп орйелсшныюгдп ',\n",
       " 'щэацлтмг  эйсмыл тнэйцй фтлюцл а онвйшл а цбмлрж чбэмшэйэлта чшй юлчлтпмшэй млзй юн дюлнш чшй щнтлшп а юнрнхазймшп юлчлтпюаыйэ мййьелтлмп эйсмылз оймыйрнн оймыйрнн ьж щбзлт рймшйэ чбэмшэбг чшй юлыйюнишй юлмшбоатй эрнзг адэнщлшп юлмтлкщнюан лшлыа орй ыйшйрйн йю шлы зюйцй мтжхлт йш шйэлраенсцбмлрйэ  м ьйцйз цньгшл  орйдэбчлт цйтйм щнюамйэл  цжмжй злцхэ онрнщюнз ргщб длыйтжвлтамп ырбож тйхлщнс  црлчаы ойшгюбт ойэйщпг а млз шрйюбтмг морлэл рймшйэ эащнт онрэжн ргщж мэйав цбмлр л нен щлтпхн эонрнща эащюнтлмп нзб шнзюлг ойтймл ыйшйрбя йю юн зйц рлммзйшрншп юй мчашлт юнорагшнтнз  эжмшрнтж ьжта мтжхюж юй э йшщлтнюаа  ораьлэп ржма  оймтжхлтлмп ыйзлющл а рймшйэ чбэмшэйэлт ылы ойщщлнш длщйз онрньаэлг э цлтйо нцй црлчаы йю эонрнщ бцлщжэлт нцй щэакнюаг а нзб мшлюйэатймп эмн энмнтнн а энмнтнн  йю длзншат йщаюйыйн щнрнэй эонрнща  ушй щнрнэй мюлчлтл ьжтй эонрнща юл мнрнщаюн шйс чнршж ыйшйрлг ылдлтлмп мшйтп мшрлхюйя  л эйш а онрнхта ушб чнршб а юн шйтпый юачнцй мшрлхюйцй юн ьжтй юй эм энмнтнн а йкаэтнюю')"
      ]
     },
     "execution_count": 90,
     "metadata": {},
     "output_type": "execute_result"
    }
   ],
   "source": [
    "counter_train = Counter(train_text)\n",
    "shuffle = list_shuffle(list(counter_train))\n",
    "\n",
    "train_text_shuffled = text_shuffle(train_text, shuffle)\n",
    "test_text_shuffled = text_shuffle(test_text, shuffle)\n",
    "train_text_shuffled, test_text_shuffled"
   ]
  },
  {
   "cell_type": "code",
   "execution_count": 109,
   "id": "ebabfa8c",
   "metadata": {},
   "outputs": [
    {
     "data": {
      "text/plain": [
       "'кнлметиз  ножиуе таномо щтевме л дашосе л мпиеря ыпниснонетл ысо веыетьисно иего ва йвеас ысо катесь л вараблгоись веыетьвлуон иоочхетеиь ножиуег доиуораа доиуораа чя кпгет роисон ыпниснпз ысо веуовафсо веиспдлто нрагз лйнакесь веитеюкавла есеул дро уосороа ов сеу гвомо итябет ос сонерлхажмпиерон  и чомог мачзсе  дройнпыет мотои кавлионе  мяияо гембн даракваг рзкп йеуотяшетлиь урпдя тобекаж  мреылу досзвпт донокьз л иег сровптиз идрене роисон нлкат дарняа рзкя инолш мпиер е аха кетьба ндаракл нлкватеиь агп сагвез дотоие уосорпц ов ва гом реиигосрась во иылсет вадрлзсатаг  няисратя чятл итябвя во н оскетавлл  дрлчень ряил  доитябетеиь уогевке л роисон ыпниснонет уеу доккеас йеког дарачлнез н метод амо мреылу ов ндарак пмекянет амо кнлюавлз л агп исевонлтоиь ниа наиатаа л наиатаа  ов йегаслт оклвоуоа карано ндаракл  эсо карано ивеыете чято ндаракл ве иараклва сож ыарся уосорез уейетеиь исоть исребвоц  е нос л дарабтл эсп ыарсп л ва сотьуо влыамо исребвомо ва чято во ни наиатаа л оюлнтавв'"
      ]
     },
     "execution_count": 109,
     "metadata": {},
     "output_type": "execute_result"
    }
   ],
   "source": [
    "counter_decode = Counter(test_text_shuffled)\n",
    "\n",
    "encoded_freq_order = [letter[0] for letter in sorted(counter_decode.items(), key=lambda x: x[1], reverse=True)]\n",
    "initial_freq_order = [letter[0] for letter in sorted(counter_ru.items(), key=lambda x: x[1], reverse=True)]\n",
    "\n",
    "# make encoding\n",
    "for i in range(max(len(encoded_freq_order) - len(initial_freq_order), 0)):\n",
    "    initial_freq_order.append('*')\n",
    "    \n",
    "decoder = dict(zip(encoded_freq_order, initial_freq_order))\n",
    "\n",
    "decoded_text = list(test_text_shuffled)\n",
    "for i, letter in enumerate(decoded_text):\n",
    "    decoded_text[i] = decoder[letter]\n",
    "\n",
    "''.join(decoded_text)"
   ]
  },
  {
   "cell_type": "markdown",
   "id": "fe9d6ded",
   "metadata": {},
   "source": [
    " Получается, конечно, не очень. Можно лучше"
   ]
  },
  {
   "cell_type": "markdown",
   "id": "152f3bcb",
   "metadata": {},
   "source": [
    "## Проделаем то же самое для биграмм"
   ]
  },
  {
   "cell_type": "code",
   "execution_count": 121,
   "id": "bb60cb4f",
   "metadata": {},
   "outputs": [],
   "source": [
    "bigrams = []\n",
    "list_text_ru = list(text_ru)\n",
    "for a, b in zip(list_text_ru[:-1], list_text_ru[1:]):\n",
    "    if a != ' ' and b != ' ':\n",
    "        bigrams.append(a + b)\n",
    "        "
   ]
  },
  {
   "cell_type": "code",
   "execution_count": 125,
   "id": "993e04d7",
   "metadata": {},
   "outputs": [
    {
     "data": {
      "text/plain": [
       "'иаыжтсег  нсклол нвнирй уеиыжл а оеркрл а ропехж нстгбнпотма внй водтаугбнй пмлй рн ивбеш внй лоечап а расыислкгап водтаявннпэ мушлгтелзп нскломз лклнссон лклнссон чж швитт екгнпэ нстгбэжг внй втнтреонй влгтчоиой усрвг уатоочап влеелблаван чртща дей нкнсетн тю рты ооирй евамтт кш нпоедлдбиропеепэ  м чирмз пшбурл  дебаэндтт рдокм лавтмпол  маожй иьзеэ оасокррз лишб нтндвцытмтзп рсчеж огмалбс  сеосны лкежоит лпнвьег а пмз аетоисег ндеиол екгнпэ аилот оаусун лидж унсав ропер л адн отахан иоасоеа аикроелзп ргб дровнг лдокпл нкнссея тю рн лиц елевлкасеап ой ьсдртт реддоудонрз  сагасовж чима евакыж ой э ктотнавоа  ддяьияп хага  лкевамтелзп нмииуол а екгнпэ нстгбнпотт оты лваобеш наымз оасшуионг э жтоло срй сеосны тю иоасощ гжадтотт срй иарвавог а ргб гриопаиокзп тан тпаонон а тпаонон  тю нмоелит ветогнтн ласвнй иоасоеа  янй ласвнй аводтел чиой иоасоеа вл аасоетрн нсс еакыж нкнсенг оантелзп гндап гаезкобя  л нкш а оасыума ятб еактб а рн ндазнй впесрй гаезкоирй рн чиой ой тм тпаонон а сбионааю'"
      ]
     },
     "execution_count": 125,
     "metadata": {},
     "output_type": "execute_result"
    }
   ],
   "source": [
    "bigrams_counter_ru = Counter(bigrams)\n",
    "\n",
    "bigrams_encoded = []\n",
    "list_text_ru = list(test_text_shuffled)\n",
    "for a, b in zip(list_text_ru[:-1], list_text_ru[1:]):\n",
    "    if a != ' ' and b != ' ':\n",
    "        bigrams_encoded.append(a + b)\n",
    "    \n",
    "bigrams_encoded_counter = Counter(bigrams_encoded)\n",
    "\n",
    "encoded_freq_order = [letter[0] for letter in sorted(bigrams_encoded_counter.items(), key=lambda x: x[1], reverse=True)]\n",
    "initial_freq_order = [letter[0] for letter in sorted(bigrams_counter_ru.items(), key=lambda x: x[1], reverse=True)]\n",
    "    \n",
    "decoder = dict(zip(encoded_freq_order, initial_freq_order))\n",
    "\n",
    "decoded_text = list(test_text_shuffled)\n",
    "for i, letter in enumerate(decoded_text[:-1]):\n",
    "    if decoded_text[i] != ' ' and decoded_text[i+1] != ' ':\n",
    "        decoded_text[i] = decoder[decoded_text[i] + decoded_text[i+1]][0]\n",
    "\n",
    "''.join(decoded_text)"
   ]
  },
  {
   "cell_type": "markdown",
   "id": "a7161fdf",
   "metadata": {},
   "source": []
  }
 ],
 "metadata": {
  "kernelspec": {
   "display_name": "Python 3 (ipykernel)",
   "language": "python",
   "name": "python3"
  },
  "language_info": {
   "codemirror_mode": {
    "name": "ipython",
    "version": 3
   },
   "file_extension": ".py",
   "mimetype": "text/x-python",
   "name": "python",
   "nbconvert_exporter": "python",
   "pygments_lexer": "ipython3",
   "version": "3.10.10"
  }
 },
 "nbformat": 4,
 "nbformat_minor": 5
}
